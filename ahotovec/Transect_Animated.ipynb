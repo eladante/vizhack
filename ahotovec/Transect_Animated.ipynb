{
 "cells": [
  {
   "cell_type": "markdown",
   "metadata": {},
   "source": [
    "# Animation along transect"
   ]
  },
  {
   "cell_type": "code",
   "execution_count": 27,
   "metadata": {},
   "outputs": [
    {
     "name": "stdout",
     "output_type": "stream",
     "text": [
      "Populating the interactive namespace from numpy and matplotlib\n"
     ]
    }
   ],
   "source": [
    "%pylab inline\n",
    "%matplotlib inline\n",
    "\n",
    "from __future__ import print_function\n",
    "import sys, os\n",
    "from scipy.interpolate import RegularGridInterpolator\n",
    "import matplotlib.patches as patches\n",
    "import matplotlib.path as path\n",
    "import matplotlib.animation as animation\n",
    "from IPython.display import HTML\n",
    "\n",
    "import data_tools\n",
    "\n",
    "data_dir = '/data/CCtimeframes'\n",
    "# check that directory exists, raise an exception if not:\n",
    "assert os.path.isdir(data_dir), '*** Data directory not found'"
   ]
  },
  {
   "cell_type": "code",
   "execution_count": 35,
   "metadata": {},
   "outputs": [],
   "source": [
    "# Read in topography\n",
    "\n",
    "topo_file = os.path.join(data_dir,'topo.asc')\n",
    "topo_data_dict = data_tools.read_asc_file(topo_file, verbose=False)\n",
    "\n",
    "topo = topo_data_dict['values']\n",
    "X = topo_data_dict['X']\n",
    "Y = topo_data_dict['Y']\n",
    "\n",
    "# Make available for interpolation\n",
    "topo_func = RegularGridInterpolator((X[0,:], Y[:,0]), topo.T)"
   ]
  },
  {
   "cell_type": "code",
   "execution_count": 36,
   "metadata": {
    "collapsed": true
   },
   "outputs": [],
   "source": [
    "# Define function to read in depth data frames\n",
    "\n",
    "def read_frame(frameno, verbose=False):\n",
    "    time = 2*frameno  # minutes after earthquake\n",
    "    fname = 'depth_%s.asc' % str(frameno).zfill(4)\n",
    "    depth_file = os.path.join(data_dir, fname)\n",
    "    if verbose:\n",
    "        print(\"Reading %s at time %s minutes\" % (depth_file, time))\n",
    "        \n",
    "    depth_data_dict = data_tools.read_asc_file(depth_file, verbose=False)\n",
    "\n",
    "    depth = depth_data_dict['values']\n",
    "    zeta = where(topo>0, depth, topo + depth)\n",
    "    return depth, zeta, time"
   ]
  },
  {
   "cell_type": "markdown",
   "metadata": {},
   "source": [
    "## Trace through time\n",
    "Up to now I've mostly stolen code for reading data. Now I want to trace the water surface through many frames along the same line in anticipation of animating them."
   ]
  },
  {
   "cell_type": "code",
   "execution_count": 37,
   "metadata": {
    "collapsed": true
   },
   "outputs": [],
   "source": [
    "# Go through and do interpolations on all the frames once we've chosen a transect\n",
    "\n",
    "def calc_transect(xprev,xnew,yprev,ynew,nframes):\n",
    "    \n",
    "    xi = linspace(xprev, xnew, 1000)\n",
    "    yi = linspace(yprev, ynew, 1000)\n",
    "    \n",
    "    if (abs(xnew-xprev) > 0.5*abs(ynew-yprev)):\n",
    "        ti = xi\n",
    "        xtext = 'longitude'\n",
    "    else:\n",
    "        ti = yi\n",
    "        xtext = 'latitude'\n",
    "    \n",
    "    # Interpolate the topo\n",
    "    topo_func = RegularGridInterpolator((X[0,:], Y[:,0]), topo.T)\n",
    "    Bi = topo_func(list(zip(xi,yi)))\n",
    "    \n",
    "    # In loop, interpolate the depths and calculate eta\n",
    "    etas = np.empty((nframes, 1000))\n",
    "    for frameno in range(nframes):\n",
    "        depth, zeta, time = read_frame(frameno)\n",
    "        depth_func = RegularGridInterpolator((X[0,:], Y[:,0]), depth.T)\n",
    "        zi = depth_func(list(zip(xi,yi)))\n",
    "        etas[frameno, :] = zi+Bi\n",
    "\n",
    "    return Bi, etas, ti, xtext\n"
   ]
  },
  {
   "cell_type": "markdown",
   "metadata": {},
   "source": [
    "## Create animation\n",
    "In this example, I'm taking a vertical transect at the middle. I've kept the names similar to the names from the interactive example with the idea that they would be passed along to this function.\n",
    "\n",
    "The sort of tricky part here is defining the patch in a way that can be animated, thus the whole MOVETO, LINETO, and CLOSEPOLY codes."
   ]
  },
  {
   "cell_type": "code",
   "execution_count": 38,
   "metadata": {},
   "outputs": [
    {
     "data": {
      "image/png": "[encoded data removed]",
      "text/plain": [
       "<matplotlib.figure.Figure at 0x7fa9a658d128>"
      ]
     },
     "metadata": {},
     "output_type": "display_data"
    }
   ],
   "source": [
    "# Calculate the transect\n",
    "Bi, etas, ti, xtext = calc_transect(np.mean(X), np.mean(X), np.min(Y), np.max(Y), 61)\n",
    "\n",
    "# Set up the figure\n",
    "fig = plt.figure(figsize=(12,3))\n",
    "ax = plt.subplot(111)\n",
    "\n",
    "# Draw patch for land\n",
    "# First define codes that define the start, path, and closing of the patch\n",
    "codes_land = [path.Path.MOVETO] + [path.Path.LINETO]*1001 + [path.Path.CLOSEPOLY]\n",
    "# Define the vertices in pairs of (x,y)\n",
    "vertices_land = [(ti[0], -1e6)] + list(zip(ti,Bi)) + [(ti[-1], -1e6), (0,0)]\n",
    "vertices_land = np.array(vertices_land, float)\n",
    "\n",
    "# Feed to Path and PathPatch\n",
    "path_land = path.Path(vertices_land, codes_land)\n",
    "patch_land = patches.PathPatch(path_land, facecolor=[.5,1,.5], edgecolor='none')\n",
    "ax.add_patch(patch_land)\n",
    "\n",
    "# Draw patch for water between land and surface\n",
    "codes_water = [path.Path.MOVETO] + [path.Path.LINETO]*1999 + [path.Path.CLOSEPOLY]\n",
    "vertices_water = list(zip(ti,etas[0,:])) + list(zip(ti,Bi))[::-1] + [(0,0)]\n",
    "vertices_water = np.array(vertices_water, float)\n",
    "\n",
    "path_water = path.Path(vertices_water, codes_water)\n",
    "patch_water = patches.PathPatch(path_water, facecolor='b', edgecolor='k')\n",
    "ax.add_patch(patch_water)\n",
    "\n",
    "# Set zoom limits (very important!)\n",
    "ax.set_xlim(ti[0], ti[-1])\n",
    "ax.set_ylim(-10, 10)\n",
    "\n",
    "# Labels\n",
    "ax.set_xlabel(xtext)\n",
    "ax.set_ylabel('elevation [m]')\n",
    "\n",
    "# Animation updates the vertices corresponding to the water's surface\n",
    "def animate(i):\n",
    "    vertices_water[0:1000, 1] = etas[i,:]\n",
    "    return [patch_water, ]\n",
    "\n",
    "ani = animation.FuncAnimation(fig, animate, 6, interval=50, blit=True)"
   ]
  },
  {
   "cell_type": "code",
   "execution_count": 40,
   "metadata": {},
   "outputs": [
    {
     "ename": "RuntimeError",
     "evalue": "No MovieWriters available!",
     "output_type": "error",
     "traceback": [
      "\u001b[0;31m---------------------------------------------------------------------------\u001b[0m",
      "\u001b[0;31mRuntimeError\u001b[0m                              Traceback (most recent call last)",
      "\u001b[0;32m<ipython-input-40-d0bc7599ad6d>\u001b[0m in \u001b[0;36m<module>\u001b[0;34m()\u001b[0m\n\u001b[1;32m      1\u001b[0m \u001b[0;31m# Display animation... assuming the MovieWriter (ffmpeg?) is working.......\u001b[0m\u001b[0;34m\u001b[0m\u001b[0;34m\u001b[0m\u001b[0m\n\u001b[0;32m----> 2\u001b[0;31m \u001b[0mHTML\u001b[0m\u001b[0;34m(\u001b[0m\u001b[0mani\u001b[0m\u001b[0;34m.\u001b[0m\u001b[0mto_html5_video\u001b[0m\u001b[0;34m(\u001b[0m\u001b[0;34m)\u001b[0m\u001b[0;34m)\u001b[0m\u001b[0;34m\u001b[0m\u001b[0m\n\u001b[0m",
      "\u001b[0;32m/opt/anaconda/envs/geohack2/lib/python3.6/site-packages/matplotlib/animation.py\u001b[0m in \u001b[0;36mto_html5_video\u001b[0;34m(self)\u001b[0m\n\u001b[1;32m   1153\u001b[0m                 \u001b[0;31m# We create a writer manually so that we can get the\u001b[0m\u001b[0;34m\u001b[0m\u001b[0;34m\u001b[0m\u001b[0m\n\u001b[1;32m   1154\u001b[0m                 \u001b[0;31m# appropriate size for the tag\u001b[0m\u001b[0;34m\u001b[0m\u001b[0;34m\u001b[0m\u001b[0m\n\u001b[0;32m-> 1155\u001b[0;31m                 \u001b[0mWriter\u001b[0m \u001b[0;34m=\u001b[0m \u001b[0mwriters\u001b[0m\u001b[0;34m[\u001b[0m\u001b[0mrcParams\u001b[0m\u001b[0;34m[\u001b[0m\u001b[0;34m'animation.writer'\u001b[0m\u001b[0;34m]\u001b[0m\u001b[0;34m]\u001b[0m\u001b[0;34m\u001b[0m\u001b[0m\n\u001b[0m\u001b[1;32m   1156\u001b[0m                 writer = Writer(codec='h264',\n\u001b[1;32m   1157\u001b[0m                                 \u001b[0mbitrate\u001b[0m\u001b[0;34m=\u001b[0m\u001b[0mrcParams\u001b[0m\u001b[0;34m[\u001b[0m\u001b[0;34m'animation.bitrate'\u001b[0m\u001b[0;34m]\u001b[0m\u001b[0;34m,\u001b[0m\u001b[0;34m\u001b[0m\u001b[0m\n",
      "\u001b[0;32m/opt/anaconda/envs/geohack2/lib/python3.6/site-packages/matplotlib/animation.py\u001b[0m in \u001b[0;36m__getitem__\u001b[0;34m(self, name)\u001b[0m\n\u001b[1;32m    127\u001b[0m         \u001b[0mself\u001b[0m\u001b[0;34m.\u001b[0m\u001b[0mensure_not_dirty\u001b[0m\u001b[0;34m(\u001b[0m\u001b[0;34m)\u001b[0m\u001b[0;34m\u001b[0m\u001b[0m\n\u001b[1;32m    128\u001b[0m         \u001b[0;32mif\u001b[0m \u001b[0;32mnot\u001b[0m \u001b[0mself\u001b[0m\u001b[0;34m.\u001b[0m\u001b[0mavail\u001b[0m\u001b[0;34m:\u001b[0m\u001b[0;34m\u001b[0m\u001b[0m\n\u001b[0;32m--> 129\u001b[0;31m             \u001b[0;32mraise\u001b[0m \u001b[0mRuntimeError\u001b[0m\u001b[0;34m(\u001b[0m\u001b[0;34m\"No MovieWriters available!\"\u001b[0m\u001b[0;34m)\u001b[0m\u001b[0;34m\u001b[0m\u001b[0m\n\u001b[0m\u001b[1;32m    130\u001b[0m         \u001b[0;32mreturn\u001b[0m \u001b[0mself\u001b[0m\u001b[0;34m.\u001b[0m\u001b[0mavail\u001b[0m\u001b[0;34m[\u001b[0m\u001b[0mname\u001b[0m\u001b[0;34m]\u001b[0m\u001b[0;34m\u001b[0m\u001b[0m\n\u001b[1;32m    131\u001b[0m \u001b[0;34m\u001b[0m\u001b[0m\n",
      "\u001b[0;31mRuntimeError\u001b[0m: No MovieWriters available!"
     ]
    }
   ],
   "source": [
    "# Display animation... assuming the MovieWriter (ffmpeg?) is working.......\n",
    "HTML(ani.to_html5_video())"
   ]
  },
  {
   "cell_type": "code",
   "execution_count": null,
   "metadata": {
    "collapsed": true
   },
   "outputs": [],
   "source": []
  }
 ],
 "metadata": {
  "kernelspec": {
   "display_name": "Python(Geohack2)",
   "language": "python",
   "name": "geohack2"
  },
  "language_info": {
   "codemirror_mode": {
    "name": "ipython",
    "version": 3
   },
   "file_extension": ".py",
   "mimetype": "text/x-python",
   "name": "python",
   "nbconvert_exporter": "python",
   "pygments_lexer": "ipython3",
   "version": "3.6.2"
  }
 },
 "nbformat": 4,
 "nbformat_minor": 2
}

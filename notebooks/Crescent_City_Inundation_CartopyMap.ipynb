{
 "cells": [
  {
   "cell_type": "markdown",
   "metadata": {},
   "source": [
    "# Visualization of Crescent City tsunami inundation \n",
    "\n",
    "This notebook illustrates how to make some simple plots of geodata using the [matplotlib](http://matplotlib.org/index.html) package.  See the [matplotlib gallery](http://matplotlib.org/gallery.html) for many other examples of how to do things.\n",
    "\n",
    "The sample data comes from a tsunami simulation of a hypothetical tsunami arising from an earthquake on the Cascadia Subduction Zone hitting Crescent City, CA.  The data set used shows the maximum depth of water at each point on a grid covering part of the harbor during the course of the simulation.  \n",
    "\n",
    "Many simulations like this are done in order to perform probabilistic tsunami hazard assessment (PTHA).  A set of Jupyter notebooks illustrating how this is done were prepared for a workshop last autumn and also contain some other examples of how to plot data.  These can be found in the Github repository https://github.com/rjleveque/ptha_tutorial.\n",
    "\n",
    "<img src='figures/800px-Crescent_City_California_harbor_aerial_viewUSArmyCorpofEngineeers1.jpg' width=400>"
   ]
  },
  {
   "cell_type": "markdown",
   "metadata": {},
   "source": [
    "The following \"magic\" command makes makes the `matplotlib` plots show up right in the notebook.  If you instead give the command `%matplotlib notebook` then it is also possible to interact with plots, e.g. to zoom.  \n",
    "See [Jupyter documentation](http://ipython.readthedocs.io/en/stable/interactive/plotting.html)"
   ]
  },
  {
   "cell_type": "code",
   "execution_count": null,
   "metadata": {
    "collapsed": true
   },
   "outputs": [],
   "source": [
    "%matplotlib inline"
   ]
  },
  {
   "cell_type": "markdown",
   "metadata": {},
   "source": [
    "Import numpy and matplotlib:"
   ]
  },
  {
   "cell_type": "code",
   "execution_count": null,
   "metadata": {
    "collapsed": true
   },
   "outputs": [],
   "source": [
    "import numpy as np\n",
    "import matplotlib.pyplot as plt"
   ]
  },
  {
   "cell_type": "markdown",
   "metadata": {},
   "source": [
    "So that this notebook runs with either a Python 2 or Python 3 kernel, use the Python 3 print function rather than the Python 2 print statement:"
   ]
  },
  {
   "cell_type": "code",
   "execution_count": null,
   "metadata": {
    "collapsed": true
   },
   "outputs": [],
   "source": [
    "from __future__ import print_function # in case of Python 2"
   ]
  },
  {
   "cell_type": "markdown",
   "metadata": {},
   "source": [
    "### Function to read a file in asc format:\n",
    "\n",
    "There are many tools available in various packages to read geodata in a variety of formats.  Here we provide a simple function to read a file in [ESRI ASCII raster format](http://resources.esri.com/help/9.3/arcgisengine/java/GP_ToolRef/spatial_analyst_tools/esri_ascii_raster_format.htm),\n",
    "which consists of a header describing the grid followed by values on the grid.\n",
    "\n",
    "Here we use the function `read_asc_file` from the [data_tools.py](data_tools.py) module in this directory to parse the file directly, first reading in a header and then the data."
   ]
  },
  {
   "cell_type": "code",
   "execution_count": null,
   "metadata": {
    "collapsed": true
   },
   "outputs": [],
   "source": [
    "from data_tools import read_asc_file"
   ]
  },
  {
   "cell_type": "markdown",
   "metadata": {},
   "source": [
    "### Read in the data files for this example\n",
    "\n",
    "First the file containing the maximum water depth hmax:"
   ]
  },
  {
   "cell_type": "code",
   "execution_count": null,
   "metadata": {},
   "outputs": [],
   "source": [
    "hmax_file = '../geoclaw_output/hmax_CC.asc'\n",
    "hmax_data_dict = read_asc_file(hmax_file, verbose=True)"
   ]
  },
  {
   "cell_type": "markdown",
   "metadata": {},
   "source": [
    "Unpack the dictionary that is returned, extracting the grid and `hmax` values:"
   ]
  },
  {
   "cell_type": "code",
   "execution_count": null,
   "metadata": {
    "collapsed": true
   },
   "outputs": [],
   "source": [
    "hmax = hmax_data_dict['values']\n",
    "X = hmax_data_dict['X']\n",
    "Y = hmax_data_dict['Y']"
   ]
  },
  {
   "cell_type": "markdown",
   "metadata": {},
   "source": [
    "Do the same for the file containing topography values.  These values `topo` are the height of the topography at each point relative to some `vertical datum`, in this case Mean High Water (MHW) since this data came from a [NOAA database](https://www.ngdc.noaa.gov/mgg/inundation/tsunami/) of topography DEMs for tsunami inundation."
   ]
  },
  {
   "cell_type": "code",
   "execution_count": null,
   "metadata": {
    "collapsed": true
   },
   "outputs": [],
   "source": [
    "topo_file = '../geoclaw_output/topo_CC.asc'\n",
    "topo_data_dict = read_asc_file(topo_file, verbose=False)\n",
    "\n",
    "topo = topo_data_dict['values']"
   ]
  },
  {
   "cell_type": "markdown",
   "metadata": {},
   "source": [
    "### Plot contours of topography\n",
    "\n",
    "The `X,Y` arrays for the `topo` are the same as for `hmax` (one should check this!)\n",
    "\n",
    "We can do a quick and dirty plot of contours of topography:"
   ]
  },
  {
   "cell_type": "code",
   "execution_count": null,
   "metadata": {},
   "outputs": [],
   "source": [
    "topo_contour_levels = np.arange(0, topo.max()+1, 2)  # 2 meter increments\n",
    "print( \"Contour levels: %s\" % topo_contour_levels)\n",
    "plt.contour(X,Y,topo, topo_contour_levels)\n",
    "plt.colorbar();"
   ]
  },
  {
   "cell_type": "markdown",
   "metadata": {},
   "source": [
    "There are several things about this plot that we might want to fix:\n",
    " - The ticklabels show only an offset rather than the full latitude longitude (possibly, depends on your version),\n",
    " - The aspect ratio is not correct.  At latitude theta, one degree of longitude is shorter than one degree of latitude by a factor of $cos(\\theta)$.\n",
    " - For plotting data on top of the contour plot, we might want all the contour lines to be the same color, say black (which is denoted by `'k'`)."
   ]
  },
  {
   "cell_type": "code",
   "execution_count": null,
   "metadata": {},
   "outputs": [],
   "source": [
    "# Create a figure of the desired size:\n",
    "fig = plt.figure(figsize=(5,5))  \n",
    "ax = plt.axes()  \n",
    "\n",
    "plt.contour(X,Y,topo, topo_contour_levels, colors='k')\n",
    "\n",
    "# set the aspect ratio, converting 41.7 degrees to radians\n",
    "ax.set_aspect(1./np.cos(41.7*np.pi/180.)) \n",
    "\n",
    "# get rid of the offsets:\n",
    "ax.ticklabel_format(format='plain',useOffset=False)\n",
    "\n",
    "# rotate the xtick labels so they are readable:\n",
    "plt.xticks(rotation=20);   # semi-colon to suppress a message"
   ]
  },
  {
   "cell_type": "markdown",
   "metadata": {},
   "source": [
    "### Plot water depth on contour plot\n",
    "\n",
    "Here's a first attempt a plotting the maximum water depth data on the contour plot:"
   ]
  },
  {
   "cell_type": "code",
   "execution_count": null,
   "metadata": {},
   "outputs": [],
   "source": [
    "fig = plt.figure(figsize=(6,6))\n",
    "ax = plt.axes()\n",
    "\n",
    "plt.contour(X,Y,topo, topo_contour_levels, colors='k')\n",
    "\n",
    "ax.set_aspect(1./np.cos(41.7*np.pi/180.))\n",
    "ax.ticklabel_format(format='plain',useOffset=False)\n",
    "plt.xticks(rotation=20)\n",
    "\n",
    "# Now plot the data as filled contours:\n",
    "plt.contourf(X,Y,hmax)\n",
    "plt.colorbar()"
   ]
  },
  {
   "cell_type": "markdown",
   "metadata": {},
   "source": [
    "This plot has several problems:\n",
    "- It is impossible to tell water depth 0 (no inundation) from small depths,\n",
    "- The colormap and limits were set based on the data, and are revealing deep water offshore, with no information about what's happening onshore.\n",
    "\n",
    "We can fix this by masking out the `hmax` grid in regions where either the land is dry (e.g. where `hmax < 0.001` meters) and also where `topo < 0`, i.e., anywhere there is water at high tide.\n",
    "\n",
    "The numpy module `ma` provides masked arrays:"
   ]
  },
  {
   "cell_type": "code",
   "execution_count": null,
   "metadata": {},
   "outputs": [],
   "source": [
    "from numpy import ma  # masked arrays\n",
    "\n",
    "# mask out the dry cells (e.g., where depth < 1 mm):\n",
    "hmax_dry = ma.masked_where(hmax < 0.001, hmax)\n",
    "\n",
    "# mask out the water region if we only care about onshore:\n",
    "hmax_onshore = ma.masked_where(topo < 0, hmax_dry)\n",
    "\n",
    "\n",
    "fig = plt.figure(figsize=(6,6))\n",
    "ax = plt.axes()\n",
    "\n",
    "plt.contour(X,Y,topo, topo_contour_levels, colors='k')\n",
    "\n",
    "ax.set_aspect(1./np.cos(41.7*np.pi/180.))\n",
    "ax.ticklabel_format(format='plain',useOffset=False)\n",
    "plt.xticks(rotation=20)\n",
    "\n",
    "plt.contourf(X,Y,hmax_onshore)\n",
    "plt.colorbar();"
   ]
  },
  {
   "cell_type": "markdown",
   "metadata": {},
   "source": [
    "This gives a more useful plot.\n",
    "\n",
    "### Custom color maps\n",
    "\n",
    "We might want to tweak it further, e.g. by specifying the colormap and/or the depth levels separating colors.\n",
    "\n",
    "Here's a little function that makes a list of colors (as [R,G,B] values):"
   ]
  },
  {
   "cell_type": "code",
   "execution_count": null,
   "metadata": {
    "collapsed": true
   },
   "outputs": [],
   "source": [
    "def discrete_cmap_1(clines):\n",
    "    \"\"\"\n",
    "    Construct a discrete color map for the regions between the contour lines\n",
    "    given in clines. Colors go from turqouise through yellow to red.\n",
    "    Good for flooding depth.\n",
    "    \"\"\"\n",
    "    from numpy import floor, linspace, hstack, ones, zeros\n",
    "    nlines = len(clines)\n",
    "    n1 = int(floor((nlines-1)/2.))\n",
    "    n2 = nlines - 1 - n1\n",
    "    Green = hstack([linspace(1,1,n1),linspace(1,0,n2)])\n",
    "    Red = hstack([linspace(0,0.8,n1), ones(n2)])\n",
    "    Blue = hstack([linspace(1,0.2,n1), zeros(n2)])\n",
    "    colors = list(zip(Red,Green,Blue))\n",
    "    return colors"
   ]
  },
  {
   "cell_type": "markdown",
   "metadata": {},
   "source": [
    "From above we see that the maximum inundation depth is nearly 6 meters, but only in a few regions near the shore.  So we will choose contour levels every 0.5 m up to 4 meters (9 values) and then set `depth_colors` to be a list of 8 [R,G,B] values for the color between each.  "
   ]
  },
  {
   "cell_type": "code",
   "execution_count": null,
   "metadata": {},
   "outputs": [],
   "source": [
    "depth_contour_levels = np.arange(0,4.5,0.5)  # every 0.5 m up to 4 m\n",
    "depth_colors = discrete_cmap_1(depth_contour_levels)\n",
    "\n",
    "print( \"depth_contour_levels = \", depth_contour_levels)\n",
    "print( \"depth_colors = \\n\",np.array(depth_colors))"
   ]
  },
  {
   "cell_type": "markdown",
   "metadata": {},
   "source": [
    "Note that we pass the argument `extend='max'` to `contourf` below so that values above 4m also get painted red (rather than white as they otherwise would).  Note that this affects the colorbar as well -- it shows that red extends above 4m.  We also add a title telling the actual maximum depth."
   ]
  },
  {
   "cell_type": "code",
   "execution_count": null,
   "metadata": {},
   "outputs": [],
   "source": [
    "fig = plt.figure(figsize=(7,7))\n",
    "ax = plt.axes()\n",
    "\n",
    "plt.contour(X,Y,topo, topo_contour_levels, colors='k')\n",
    "\n",
    "ax.set_aspect(1./np.cos(41.7*np.pi/180.))\n",
    "ax.ticklabel_format(format='plain',useOffset=False)\n",
    "plt.xticks(rotation=20)\n",
    "\n",
    "plt.contourf(X,Y,hmax_onshore, depth_contour_levels, \\\n",
    "            colors = depth_colors, extend='max')\n",
    "plt.colorbar()\n",
    "plt.title('Tsunami inundation, maximum depth = %4.1f m' \\\n",
    "          % hmax_onshore.max());"
   ]
  },
  {
   "cell_type": "code",
   "execution_count": null,
   "metadata": {},
   "outputs": [],
   "source": [
    "import cartopy.crs as ccrs\n",
    "#from cartopy.io import shapereader\n",
    "from cartopy.mpl.gridliner import LONGITUDE_FORMATTER, LATITUDE_FORMATTER\n",
    "import cartopy.io.img_tiles as cimgt\n",
    "\n",
    "extent = [-124.215, -124.175, 41.735, 41.77]\n",
    "\n",
    "request = cimgt.OSM()\n",
    "\n",
    "plt.figure(figsize=(20,20))\n",
    "ax = plt.axes(projection=request.crs)\n",
    "ax.set_extent(extent)\n",
    "\n",
    "gl = ax.gridlines(draw_labels=True)\n",
    "gl.xlabels_top = gl.ylabels_right = False\n",
    "gl.xformatter = LONGITUDE_FORMATTER\n",
    "gl.yformatter = LATITUDE_FORMATTER\n",
    "\n",
    "ax.add_image(request, 15)\n",
    "\n",
    "ax.contour(X,Y,topo, topo_contour_levels, colors='k', opacity=.5, transform=ccrs.PlateCarree())\n",
    "\n",
    "ax.contourf(X,Y,hmax_onshore, depth_contour_levels, \\\n",
    "            colors = depth_colors, alpha=0.7, extend='max', transform=ccrs.PlateCarree())"
   ]
  },
  {
   "cell_type": "code",
   "execution_count": null,
   "metadata": {
    "collapsed": true
   },
   "outputs": [],
   "source": []
  }
 ],
 "metadata": {
  "kernelspec": {
   "display_name": "Python(Geohack2)",
   "language": "python",
   "name": "geohack2"
  },
  "language_info": {
   "codemirror_mode": {
    "name": "ipython",
    "version": 3
   },
   "file_extension": ".py",
   "mimetype": "text/x-python",
   "name": "python",
   "nbconvert_exporter": "python",
   "pygments_lexer": "ipython3",
   "version": "3.6.2"
  },
  "widgets": {
   "state": {
    "070c676c8e8645f6b39059b511df1585": {
     "views": []
    },
    "4da1d63b6dec452b8f928708dc592c0f": {
     "views": []
    },
    "54ce19f915d24b76835b3021a9cf7627": {
     "views": []
    },
    "5d375378c33042e68f883651ca6f8a59": {
     "views": [
      {
       "cell_index": 38
      }
     ]
    },
    "89179727978745e6928f84d431ab88c6": {
     "views": []
    },
    "bfc72b80a6ce4a01a8a3257626760e63": {
     "views": []
    }
   },
   "version": "1.1.2"
  }
 },
 "nbformat": 4,
 "nbformat_minor": 1
}

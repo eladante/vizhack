{
 "cells": [
  {
   "cell_type": "markdown",
   "metadata": {},
   "source": [
    "# Interactive Transects\n",
    "\n",
    "This notebook illustrates how to make transects of tsunami depth over topography that can be interactively updated by selecting the transect.  \n",
    "\n",
    "\n",
    "### First set up some things needed in notebook...."
   ]
  },
  {
   "cell_type": "code",
   "execution_count": null,
   "metadata": {},
   "outputs": [],
   "source": [
    "%pylab inline\n",
    "%matplotlib notebook"
   ]
  },
  {
   "cell_type": "code",
   "execution_count": null,
   "metadata": {
    "collapsed": true
   },
   "outputs": [],
   "source": [
    "from __future__ import print_function\n",
    "import sys, os\n",
    "from ipywidgets import interact\n",
    "from IPython.display import Image, display"
   ]
  },
  {
   "cell_type": "code",
   "execution_count": null,
   "metadata": {
    "collapsed": true
   },
   "outputs": [],
   "source": [
    "# local module to read an ascii raster file:\n",
    "import data_tools"
   ]
  },
  {
   "cell_type": "markdown",
   "metadata": {},
   "source": [
    "### Read in the topography data and define a function to make a contour plot:"
   ]
  },
  {
   "cell_type": "code",
   "execution_count": null,
   "metadata": {},
   "outputs": [],
   "source": [
    "topo_file = '../geoclaw_output/topo_CC.asc'\n",
    "topo_data_dict = data_tools.read_asc_file(topo_file, verbose=True)\n",
    "\n",
    "topo = topo_data_dict['values']"
   ]
  },
  {
   "cell_type": "code",
   "execution_count": null,
   "metadata": {
    "collapsed": true
   },
   "outputs": [],
   "source": [
    "def plot_topo():\n",
    "    fig = figure(figsize=(6,6))\n",
    "    ax = axes()\n",
    "    topo_clines = arange(0,20,2)\n",
    "    contour(X,Y,topo,topo_clines,colors='k')\n",
    "    CClatitude = 41.75  # to rescale longitude\n",
    "    ax.set_aspect(1. / cos(pi*CClatitude/180.)) \n",
    "    ax.ticklabel_format(format='plain',useOffset=False)\n",
    "    return fig"
   ]
  },
  {
   "cell_type": "markdown",
   "metadata": {},
   "source": [
    "### Read in depth data"
   ]
  },
  {
   "cell_type": "code",
   "execution_count": null,
   "metadata": {
    "collapsed": true
   },
   "outputs": [],
   "source": [
    "hmax_file = '../geoclaw_output/hmax_CC.asc'\n",
    "hmax_data_dict = data_tools.read_asc_file(hmax_file, verbose=False)\n",
    "\n",
    "hmax = hmax_data_dict['values']\n",
    "X = hmax_data_dict['X']\n",
    "Y = hmax_data_dict['Y']"
   ]
  },
  {
   "cell_type": "code",
   "execution_count": null,
   "metadata": {
    "collapsed": true
   },
   "outputs": [],
   "source": [
    "from numpy import ma  # masked arrays\n",
    "\n",
    "# mask out the dry cells (e.g., where depth < 1 mm):\n",
    "hmax_dry = ma.masked_where(hmax < 0.001, hmax)\n",
    "\n",
    "# mask out the water region if we only care about onshore:\n",
    "hmax_onshore = ma.masked_where(topo < 0, hmax_dry)\n",
    "\n",
    "def discrete_cmap_1(clines):\n",
    "    \"\"\"\n",
    "    Construct a discrete color map for the regions between the contour lines\n",
    "    given in clines. Colors go from turqouise through yellow to red.\n",
    "    Good for flooding depth.\n",
    "    \"\"\"\n",
    "    from numpy import floor, linspace, hstack, ones, zeros\n",
    "    nlines = len(clines)\n",
    "    n1 = int(floor((nlines-1)/2.))\n",
    "    n2 = nlines - 1 - n1\n",
    "    Green = hstack([linspace(1,1,n1),linspace(1,0,n2)])\n",
    "    Red = hstack([linspace(0,0.8,n1), ones(n2)])\n",
    "    Blue = hstack([linspace(1,0.2,n1), zeros(n2)])\n",
    "    colors = list(zip(Red,Green,Blue))\n",
    "    return colors\n",
    "\n",
    "depth_contour_levels = np.arange(0,4.5,0.5)  # every 0.5 m up to 4 m\n",
    "depth_colors = discrete_cmap_1(depth_contour_levels)"
   ]
  },
  {
   "cell_type": "markdown",
   "metadata": {},
   "source": [
    "## Define class to allow interactive plotting\n",
    "\n",
    "The class `DrawLine` allows the reader to select a transect and will then interpolate the solution from the specified event to this transect.\n",
    "\n",
    "We first define a function `topo_func` that allows us to evaluate the topography at any point `(x,y)`.\n",
    "\n",
    "The function `plot_transect` is then defined to take two points `(x1,y1)` and `(x2,y2)` and interpolate the topography onto a set of 1000 equally spaced points along the transect (straight line connecting the points).  The function also takes another argument, an `hmax_func` function that can also be evaluated at any point and is assumed to return a value of `hmax` at this point."
   ]
  },
  {
   "cell_type": "code",
   "execution_count": null,
   "metadata": {
    "collapsed": true
   },
   "outputs": [],
   "source": [
    "from scipy.interpolate import RegularGridInterpolator\n",
    "topo_func = RegularGridInterpolator((X[0,:], Y[:,0]), topo.T)\n",
    "\n",
    "import numpy as np\n",
    "import matplotlib.pyplot as plt\n",
    "import matplotlib.gridspec as gridspec\n",
    "\n",
    "class DrawLine:\n",
    "    def __init__(self, fig,ax1,ax2,hmax_func,topo_func):\n",
    "        self.figure = fig\n",
    "        self.ax1 = ax1\n",
    "        self.ax2 = ax2\n",
    "        self.xprev = 0\n",
    "        self.yprev = 0\n",
    "        self.xnew = 0\n",
    "        self.ynew = 0\n",
    "        self.press = None\n",
    "        self.hmax_func = hmax_func\n",
    "        self.topo_func = topo_func\n",
    "\n",
    "    def connect(self):\n",
    "        'connect to all the events we need'\n",
    "        self.cidpress = self.figure.canvas.mpl_connect(\n",
    "            'button_press_event', self.on_press)\n",
    "        self.cidrelease = self.figure.canvas.mpl_connect(\n",
    "            'button_release_event', self.on_release)\n",
    "\n",
    "    def on_press(self, event):\n",
    "        self.xprev = event.xdata\n",
    "        self.yprev = event.ydata\n",
    "        self.press = 1\n",
    "        ax1.plot(self.xprev,self.yprev,'ro')\n",
    "        self.figure.canvas.draw()\n",
    "\n",
    "\n",
    "    def on_release(self, event):\n",
    "        self.press = None\n",
    "        self.xnew = event.xdata\n",
    "        self.ynew = event.ydata\n",
    "        self.ax1.cla()\n",
    "        \n",
    "        topo_clines = arange(0,20,2)\n",
    "        self.ax1.contour(X,Y,topo,topo_clines,colors='k')\n",
    "        ax1.contourf(X,Y,hmax_onshore, depth_contour_levels, \n",
    "             colors = depth_colors, extend='max')\n",
    "        CClatitude = 41.75  # to rescale longitude\n",
    "        self.ax1.set_aspect(1. / cos(pi*CClatitude/180.)) \n",
    "        self.ax1.ticklabel_format(format='plain',useOffset=False)\n",
    "    \n",
    "        self.ax1.plot(self.xprev,self.yprev,'ro')\n",
    "        self.ax1.plot([self.xprev,self.xnew],[self.yprev,self.ynew],'-r',lw=3)\n",
    "        \n",
    "        self.plot_transect()\n",
    "        plt.setp( ax1.xaxis.get_majorticklabels(), rotation=20 )\n",
    "        self.figure.canvas.draw()\n",
    "\n",
    "    def disconnect(self):\n",
    "        'disconnect all the stored connection ids'\n",
    "        self.figure.canvas.mpl_disconnect(self.cidpress)\n",
    "        self.figure.canvas.mpl_disconnect(self.cidrelease)\n",
    "        \n",
    "    def plot_transect(self):\n",
    "        # points on transect:\n",
    "        xi = linspace(self.xprev, self.xnew, 1000)\n",
    "        yi = linspace(self.yprev, self.ynew, 1000)\n",
    "        \n",
    "        # evaulate topo and zeta on transect:\n",
    "        Bi = self.topo_func(list(zip(xi,yi)))\n",
    "        zi = self.hmax_func(list(zip(xi,yi)))\n",
    "                \n",
    "        # define surface eta as water depth + topography \n",
    "        eta = zi+Bi\n",
    "    \n",
    "        # Clear axis 2\n",
    "        self.ax2.cla()\n",
    "    \n",
    "        # plot vs. longitude or latitude depending on orientation:\n",
    "        if (abs(self.xnew-self.xprev) > 0.5*abs(self.ynew-self.yprev)):\n",
    "            ti = xi\n",
    "            self.ax2.set_xlim(min(self.xprev,self.xnew),max(self.xprev,self.xnew))\n",
    "            xtext = 'longitude'\n",
    "        else:\n",
    "            ti = yi\n",
    "            self.ax2.set_xlim(min(self.yprev,self.ynew),max(self.yprev,self.ynew))\n",
    "            xtext = 'latitude'\n",
    "            \n",
    "        BiPos = where(Bi<0, 0., Bi)\n",
    "        BiNeg = where(Bi>0, 0, Bi)\n",
    "        \n",
    "        \n",
    "        self.ax2.fill_between(ti, BiPos, eta, color='b')       # flood water\n",
    "        self.ax2.fill_between(ti, BiNeg, 0, color=[.7,.7,1])   # original water\n",
    "        self.ax2.fill_between(ti, -1e6, Bi, color=[.5,1,.5])   # topography\n",
    "        self.ax2.plot(ti, Bi, 'g', lw=1)                       # topography\n",
    "        \n",
    "        self.ax2.set_xlabel(xtext)\n",
    "        self.ax2.set_ylabel('meters')\n",
    "        self.ax2.set_title('Elevation vs. %s' % xtext)\n",
    "    \n",
    "        # choose limits of vertical axis to give nice plots:\n",
    "        eta_wet_max = eta.max()  #where(zi>0, zi+Bi, 0).max()\n",
    "        y2 = max(10,eta_wet_max)\n",
    "        self.ax2.set_ylim(-5, y2)\n",
    "    \n",
    "        self.ax2.ticklabel_format(format='plain',useOffset=False)\n",
    "        self.ax1.set_title('(%8.4f,%8.4f) to (%8.4f,%8.4f)' % (self.xprev,self.yprev,self.xnew,self.ynew))"
   ]
  },
  {
   "cell_type": "markdown",
   "metadata": {},
   "source": [
    "## Select an event and execute to start the interactive plot..."
   ]
  },
  {
   "cell_type": "code",
   "execution_count": null,
   "metadata": {},
   "outputs": [],
   "source": [
    "hmax_func = RegularGridInterpolator((X[0,:], Y[:,0]), hmax.T)\n",
    "\n",
    "gs = gridspec.GridSpec(10, 3)\n",
    "fig = plt.figure(figsize=(12,10))\n",
    "ax1 = plt.subplot(gs[0:6,0:])\n",
    "\n",
    "topo_clines = arange(0,20,2)\n",
    "ax1.contour(X,Y,topo,topo_clines,colors='k')\n",
    "\n",
    "ax1.contourf(X,Y,hmax_onshore, depth_contour_levels, \n",
    "             colors = depth_colors, extend='max')\n",
    "CClatitude = 41.75  # to rescale longitude\n",
    "ax1.set_aspect(1. / cos(pi*CClatitude/180.)) \n",
    "ax1.ticklabel_format(format='plain',useOffset=False)\n",
    "#plt.xticks(rotation=20)\n",
    "ax1.set_xlabel(\"Longitude\")\n",
    "ax1.set_ylabel(\"Latitude\")\n",
    "ax1.set_title(\"Click a point, drag, and release\")\n",
    "\n",
    "ax2 = plt.subplot(gs[7:,0:])\n",
    "\n",
    "plt.setp( ax1.xaxis.get_majorticklabels(), rotation=20 )\n",
    "\n",
    "dr =  DrawLine(fig,ax1,ax2,hmax_func,topo_func)\n",
    "dr.connect()"
   ]
  },
  {
   "cell_type": "markdown",
   "metadata": {},
   "source": [
    "**Note:** To use this, click on a point in the map, drag the mouse, and then release.  The points and transect do not show up until you release.  It would be nice if they did."
   ]
  },
  {
   "cell_type": "code",
   "execution_count": null,
   "metadata": {},
   "outputs": [],
   "source": []
  }
 ],
 "metadata": {
  "kernelspec": {
   "display_name": "Python 2",
   "language": "python",
   "name": "python2"
  },
  "language_info": {
   "codemirror_mode": {
    "name": "ipython",
    "version": 3
   },
   "file_extension": ".py",
   "mimetype": "text/x-python",
   "name": "python",
   "nbconvert_exporter": "python",
   "pygments_lexer": "ipython3",
   "version": "3.6.2"
  }
 },
 "nbformat": 4,
 "nbformat_minor": 1
}

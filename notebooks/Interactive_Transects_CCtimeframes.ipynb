{
 "cells": [
  {
   "cell_type": "markdown",
   "metadata": {},
   "source": [
    "# Interactive Transects\n",
    "\n",
    "This notebook illustrates how to make transects of tsunami depth over topography that can be interactively updated by selecting the transect.  \n",
    "\n",
    "For this demo we use the same test data as used in Visualization Tutorial notebook `Crescent_City_Inundation.ipynb`, but it should work also with other combinations of topography and depth data.\n",
    "\n",
    "\n",
    "### First set up some things needed in notebook...."
   ]
  },
  {
   "cell_type": "code",
   "execution_count": null,
   "metadata": {
    "collapsed": true
   },
   "outputs": [],
   "source": [
    "%pylab inline\n",
    "%matplotlib inline"
   ]
  },
  {
   "cell_type": "code",
   "execution_count": null,
   "metadata": {
    "collapsed": true
   },
   "outputs": [],
   "source": [
    "from __future__ import print_function\n",
    "import sys, os"
   ]
  },
  {
   "cell_type": "code",
   "execution_count": null,
   "metadata": {
    "collapsed": true
   },
   "outputs": [],
   "source": [
    "# local module to read an ascii raster file:\n",
    "import data_tools\n",
    "\n",
    "# module for making animations:\n",
    "import JSAnimation\n",
    "import animation_tools"
   ]
  },
  {
   "cell_type": "markdown",
   "metadata": {},
   "source": [
    "### Specify location of data files:"
   ]
  },
  {
   "cell_type": "markdown",
   "metadata": {},
   "source": [
    "If you don't have the data, you can get it via\n",
    "```\n",
    "    $ wget http://depts.washington.edu/clawpack/geoclaw/sample_data/CCtimeframes.tar\n",
    "    $ tar -cf CCtimeframes.tar\n",
    "```\n",
    "to create a directory `CCtimeframes`.  Then set `data_dir` appropriately in the cell below."
   ]
  },
  {
   "cell_type": "code",
   "execution_count": null,
   "metadata": {
    "collapsed": true
   },
   "outputs": [],
   "source": [
    "data_dir = '/data/CCtimeframes'  # this location should work on Jupyterhub\n",
    "\n",
    "# check that directory exists, raise an exception if not:\n",
    "assert os.path.isdir(data_dir), '*** Data directory not found'"
   ]
  },
  {
   "cell_type": "markdown",
   "metadata": {},
   "source": [
    "### Read in the topography data and define a function to make a contour plot:"
   ]
  },
  {
   "cell_type": "code",
   "execution_count": null,
   "metadata": {
    "collapsed": true
   },
   "outputs": [],
   "source": [
    "topo_file = os.path.join(data_dir,'topo.asc')\n",
    "topo_data_dict = data_tools.read_asc_file(topo_file, verbose=True)\n",
    "\n",
    "topo = topo_data_dict['values']\n",
    "X = topo_data_dict['X']\n",
    "Y = topo_data_dict['Y']"
   ]
  },
  {
   "cell_type": "markdown",
   "metadata": {},
   "source": [
    "### Make `topo_func` function from raster data that can be evaluated anywhere"
   ]
  },
  {
   "cell_type": "code",
   "execution_count": null,
   "metadata": {
    "collapsed": true
   },
   "outputs": [],
   "source": [
    "from scipy.interpolate import RegularGridInterpolator\n",
    "topo_func = RegularGridInterpolator((X[0,:], Y[:,0]), topo.T)"
   ]
  },
  {
   "cell_type": "markdown",
   "metadata": {},
   "source": [
    "### Read in depth data\n",
    "\n",
    "Define a function that reads in a single frame from the time-dependent solution.  Return the water depth and also `zeta`, which is defined to be the depth on-shore and the water surface elevation (depth + topography) offshore, since this is more interesting to view than the depth and should be continuous at the shoreline (where `topo == 0`)."
   ]
  },
  {
   "cell_type": "code",
   "execution_count": null,
   "metadata": {
    "collapsed": true
   },
   "outputs": [],
   "source": [
    "def read_frame(frameno, verbose=False):\n",
    "    time = 2*frameno  # minutes after earthquake\n",
    "    fname = 'depth_%s.asc' % str(frameno).zfill(4)\n",
    "    depth_file = os.path.join(data_dir, fname)\n",
    "    if verbose:\n",
    "        print(\"Reading %s at time %s minutes\" % (depth_file, time))\n",
    "        \n",
    "    depth_data_dict = data_tools.read_asc_file(depth_file, verbose=False)\n",
    "\n",
    "    depth = depth_data_dict['values']\n",
    "    zeta = where(topo>0, depth, topo + depth)\n",
    "    return depth, zeta, time"
   ]
  },
  {
   "cell_type": "code",
   "execution_count": null,
   "metadata": {
    "collapsed": true
   },
   "outputs": [],
   "source": [
    "depth, zeta, time = read_frame(40, verbose=True)"
   ]
  },
  {
   "cell_type": "markdown",
   "metadata": {},
   "source": [
    "## Some functions to plot the depth over topography\n",
    "\n",
    "See the Visualization Tutorial notebook `Crescent_City_Inundation.ipynb` for more information about things done in the next cell."
   ]
  },
  {
   "cell_type": "code",
   "execution_count": null,
   "metadata": {
    "collapsed": true
   },
   "outputs": [],
   "source": [
    "\n",
    "def discrete_cmap_1(clines):\n",
    "    \"\"\"\n",
    "    Construct a discrete color map for the regions between the contour lines\n",
    "    given in clines. Colors go from turqouise through yellow to red.\n",
    "    Good for flooding depth.\n",
    "    \"\"\"\n",
    "    from numpy import floor, linspace, hstack, ones, zeros\n",
    "    nlines = len(clines)\n",
    "    n1 = int(floor((nlines-1)/2.))\n",
    "    n2 = nlines - 1 - n1\n",
    "    Green = hstack([linspace(1,1,n1),linspace(1,0,n2)])\n",
    "    Red = hstack([linspace(0,0.8,n1), ones(n2)])\n",
    "    Blue = hstack([linspace(1,0.2,n1), zeros(n2)])\n",
    "    colors = list(zip(Red,Green,Blue))\n",
    "    return colors\n",
    "\n",
    "depth_contour_levels = np.arange(0.1,4.5,0.5)  # every 0.5 m up to 4 m\n",
    "depth_colors = discrete_cmap_1(depth_contour_levels)\n",
    "\n",
    "\n",
    "def plot_topo_and_depth(zeta, time, ax=None):\n",
    "    if ax is None:\n",
    "        fig = figure(figsize=(6,6))\n",
    "        ax = axes()\n",
    "    topo_clines = arange(0,20,2)\n",
    "    ax.contour(X,Y,topo,topo_clines,colors='k')\n",
    "    ax.contourf(X,Y,zeta, depth_contour_levels, \n",
    "             colors = depth_colors, extend='max')\n",
    "    CClatitude = 41.75  # to rescale longitude\n",
    "    ax.set_aspect(1. / cos(pi*CClatitude/180.)) \n",
    "    ax.ticklabel_format(format='plain',useOffset=False)\n",
    "    plt.setp(ax.xaxis.get_majorticklabels(), rotation=20 )\n",
    "    ax.set_xlabel(\"Longitude\")\n",
    "    ax.set_ylabel(\"Latitude\")\n",
    "    ax.set_title('%4i minutes after earthquake' % time)\n"
   ]
  },
  {
   "cell_type": "markdown",
   "metadata": {},
   "source": [
    "### Plot the depth over topography\n",
    "\n",
    "Using the function just defined.  Note that since we used `%matplotlib notebook` in the first cell, this is a figure that can be zoomed or panned.  Click the blue `0/1` button at the top to \"close\" this figure so it is no longer interactive."
   ]
  },
  {
   "cell_type": "code",
   "execution_count": null,
   "metadata": {
    "collapsed": true
   },
   "outputs": [],
   "source": [
    "frameno = 30\n",
    "depth, zeta, time = read_frame(frameno, verbose=True)\n",
    "plot_topo_and_depth(zeta, time)"
   ]
  },
  {
   "cell_type": "code",
   "execution_count": null,
   "metadata": {
    "collapsed": true
   },
   "outputs": [],
   "source": [
    "figs = []  # to accumulate figures\n",
    "\n",
    "for frameno in range(10,41):\n",
    "    fig = figure(figsize=(6,6))\n",
    "    ax = axes()\n",
    "    depth, zeta, time = read_frame(frameno)\n",
    "    plot_topo_and_depth(zeta, time, ax);\n",
    "    figs.append(fig)\n",
    "    close(fig)\n",
    "    "
   ]
  },
  {
   "cell_type": "code",
   "execution_count": null,
   "metadata": {
    "collapsed": true
   },
   "outputs": [],
   "source": [
    "import animation_tools"
   ]
  },
  {
   "cell_type": "code",
   "execution_count": null,
   "metadata": {
    "collapsed": true
   },
   "outputs": [],
   "source": [
    "animation_tools.interact_animate_figs(figs)"
   ]
  },
  {
   "cell_type": "code",
   "execution_count": null,
   "metadata": {
    "collapsed": true
   },
   "outputs": [],
   "source": [
    "images = animation_tools.make_images(figs, dpi=150)"
   ]
  },
  {
   "cell_type": "code",
   "execution_count": null,
   "metadata": {
    "collapsed": true
   },
   "outputs": [],
   "source": [
    "animation_tools.JSAnimate_images(images, figsize=(6,6))"
   ]
  },
  {
   "cell_type": "markdown",
   "metadata": {},
   "source": [
    "## Define class to allow interactive plotting\n",
    "\n",
    "The class `DrawLine` allows the reader to select a transect and will then interpolate the solution from the specified event to this transect.\n",
    "\n",
    "We first define a function `topo_func` that allows us to evaluate the topography at any point `(x,y)`.\n",
    "\n",
    "The function `plot_transect` is then defined to take two points `(x1,y1)` and `(x2,y2)` and interpolate the topography onto a set of 1000 equally spaced points along the transect (straight line connecting the points).  The function also takes another argument, an `depth_func` function that can also be evaluated at any point and is assumed to return a value of `depth` at this point."
   ]
  },
  {
   "cell_type": "markdown",
   "metadata": {},
   "source": [
    "### Enable notebook interaction:\n",
    "\n",
    "(It might be necessary to restart the kernal and do this instead of `%matplotlib inline` to get interact to work.)"
   ]
  },
  {
   "cell_type": "code",
   "execution_count": null,
   "metadata": {
    "collapsed": true
   },
   "outputs": [],
   "source": [
    "%matplotlib notebook"
   ]
  },
  {
   "cell_type": "code",
   "execution_count": null,
   "metadata": {
    "collapsed": true
   },
   "outputs": [],
   "source": [
    "import numpy as np\n",
    "import matplotlib.pyplot as plt\n",
    "import matplotlib.gridspec as gridspec\n",
    "\n",
    "class DrawLine:\n",
    "    def __init__(self, fig,ax1,ax2,depth_func,topo_func,zeta,time):\n",
    "        self.figure = fig\n",
    "        self.ax1 = ax1\n",
    "        self.ax2 = ax2\n",
    "        self.xprev = 0\n",
    "        self.yprev = 0\n",
    "        self.xnew = 0\n",
    "        self.ynew = 0\n",
    "        self.press = None\n",
    "        self.depth_func = depth_func\n",
    "        self.topo_func = topo_func\n",
    "\n",
    "    def connect(self):\n",
    "        'connect to all the events we need'\n",
    "        self.cidpress = self.figure.canvas.mpl_connect(\n",
    "            'button_press_event', self.on_press)\n",
    "        self.cidrelease = self.figure.canvas.mpl_connect(\n",
    "            'button_release_event', self.on_release)\n",
    "\n",
    "    def on_press(self, event):\n",
    "        self.xprev = event.xdata\n",
    "        self.yprev = event.ydata\n",
    "        self.press = 1\n",
    "        ax1.plot(self.xprev,self.yprev,'bo')\n",
    "        self.figure.canvas.draw()\n",
    "\n",
    "\n",
    "    def on_release(self, event):\n",
    "        self.press = None\n",
    "        self.xnew = event.xdata\n",
    "        self.ynew = event.ydata\n",
    "        self.ax1.cla()  # clear the old transect\n",
    "\n",
    "        # replot topo and water depth:\n",
    "        plot_topo_and_depth(zeta, time, ax1)\n",
    "        \n",
    "        # add transect plot:\n",
    "        self.plot_transect()\n",
    "        \n",
    "        # plot red line between points selected:\n",
    "        self.ax1.plot([self.xprev,self.xnew],[self.yprev,self.ynew],'b-o',lw=3)\n",
    "\n",
    "        self.figure.canvas.draw()\n",
    "\n",
    "    def disconnect(self):\n",
    "        'disconnect all the stored connection ids'\n",
    "        self.figure.canvas.mpl_disconnect(self.cidpress)\n",
    "        self.figure.canvas.mpl_disconnect(self.cidrelease)\n",
    "        \n",
    "    def plot_transect(self):\n",
    "        # points on transect:\n",
    "        xi = linspace(self.xprev, self.xnew, 1000)\n",
    "        yi = linspace(self.yprev, self.ynew, 1000)\n",
    "        \n",
    "        # evaulate topo and zeta on transect:\n",
    "        Bi = self.topo_func(list(zip(xi,yi)))\n",
    "        zi = self.depth_func(list(zip(xi,yi)))\n",
    "                \n",
    "        # define surface eta as water depth + topography \n",
    "        eta = zi+Bi\n",
    "    \n",
    "        # Clear axis 2\n",
    "        self.ax2.cla()\n",
    "    \n",
    "        # plot vs. longitude or latitude depending on orientation:\n",
    "        if (abs(self.xnew-self.xprev) > 0.5*abs(self.ynew-self.yprev)):\n",
    "            ti = xi\n",
    "            self.ax2.set_xlim(min(self.xprev,self.xnew),max(self.xprev,self.xnew))\n",
    "            xtext = 'longitude'\n",
    "        else:\n",
    "            ti = yi\n",
    "            self.ax2.set_xlim(min(self.yprev,self.ynew),max(self.yprev,self.ynew))\n",
    "            xtext = 'latitude'\n",
    "            \n",
    "        BiPos = where(Bi<0, 0., Bi)\n",
    "        BiNeg = where(Bi>0, 0, Bi)\n",
    "        \n",
    "        \n",
    "        #self.ax2.fill_between(ti, BiPos, eta, color='b')       # flood water\n",
    "        #self.ax2.fill_between(ti, BiNeg, 0, color=[.7,.7,1])   # original water\n",
    "        self.ax2.fill_between(ti, -1e6, eta, color='b') \n",
    "        self.ax2.fill_between(ti, -1e6, Bi, color=[.5,1,.5])   # topography\n",
    "        self.ax2.plot(ti, Bi, 'g', lw=1)                       # topography\n",
    "        \n",
    "        self.ax2.set_xlabel(xtext)\n",
    "        self.ax2.set_ylabel('meters')\n",
    "        self.ax2.set_title('Elevation vs. %s' % xtext)\n",
    "    \n",
    "        # choose limits of vertical axis to give nice plots:\n",
    "        self.ax2.set_ylim(-10, 10)\n",
    "    \n",
    "        self.ax2.ticklabel_format(format='plain',useOffset=False)\n",
    "        self.ax1.set_title('(%8.4f,%8.4f) to (%8.4f,%8.4f)' % (self.xprev,self.yprev,self.xnew,self.ynew))"
   ]
  },
  {
   "cell_type": "markdown",
   "metadata": {},
   "source": [
    "## Execute the next cell to start the interactive plot..."
   ]
  },
  {
   "cell_type": "code",
   "execution_count": null,
   "metadata": {
    "collapsed": true
   },
   "outputs": [],
   "source": [
    "depth, zeta, time = read_frame(frameno=40, verbose=True)\n",
    "depth_func = RegularGridInterpolator((X[0,:], Y[:,0]), depth.T)\n",
    "\n",
    "gs = gridspec.GridSpec(10, 3)\n",
    "fig = plt.figure(figsize=(12,10))\n",
    "ax1 = plt.subplot(gs[0:6,0:])\n",
    "\n",
    "ax2 = plt.subplot(gs[7:,0:])\n",
    "\n",
    "\n",
    "plot_topo_and_depth(zeta,time,ax1)\n",
    "ax1.set_title(\"Click a point, drag, and release\")\n",
    "\n",
    "ax2 = plt.subplot(gs[7:,0:])\n",
    "\n",
    "dr =  DrawLine(fig,ax1,ax2,depth_func,topo_func,zeta,time)\n",
    "dr.connect()"
   ]
  },
  {
   "cell_type": "markdown",
   "metadata": {},
   "source": [
    "**Note:** To use this, click on a point in the map, drag the mouse, and then release.  The points and transect do not show up until you release.  It would be nice if they did."
   ]
  },
  {
   "cell_type": "markdown",
   "metadata": {
    "collapsed": true
   },
   "source": [
    "## Possible enhancements/extensions:\n",
    "\n",
    "- Better colormap\n",
    "- Make animation of transect"
   ]
  },
  {
   "cell_type": "code",
   "execution_count": null,
   "metadata": {
    "collapsed": true
   },
   "outputs": [],
   "source": []
  }
 ],
 "metadata": {
  "kernelspec": {
   "display_name": "Python(Geohack2)",
   "language": "python",
   "name": "geohack2"
  },
  "language_info": {
   "codemirror_mode": {
    "name": "ipython",
    "version": 3
   },
   "file_extension": ".py",
   "mimetype": "text/x-python",
   "name": "python",
   "nbconvert_exporter": "python",
   "pygments_lexer": "ipython3",
   "version": "3.6.2"
  }
 },
 "nbformat": 4,
 "nbformat_minor": 1
}

{
 "cells": [
  {
   "cell_type": "markdown",
   "metadata": {},
   "source": [
    "# Display plots from a kmz file using cesiumpy"
   ]
  },
  {
   "cell_type": "markdown",
   "metadata": {},
   "source": [
    "### Start a viewer at a specific location:"
   ]
  },
  {
   "cell_type": "code",
   "execution_count": null,
   "metadata": {
    "scrolled": true
   },
   "outputs": [],
   "source": [
    "import cesiumpy\n",
    "v = cesiumpy.Viewer()\n",
    "v.camera.flyTo(\"La Push, WA\")\n",
    "v"
   ]
  },
  {
   "cell_type": "markdown",
   "metadata": {},
   "source": [
    "### Specify long, lat, elevation for start point:"
   ]
  },
  {
   "cell_type": "code",
   "execution_count": null,
   "metadata": {
    "scrolled": true
   },
   "outputs": [],
   "source": [
    "# Set viewpoint as (longitude,latitude,elevation)\n",
    "from geopy.geocoders import Nominatim\n",
    "geolocator = Nominatim()\n",
    "location = geolocator.geocode(\"La Push, WA\")\n",
    "elevation = 5000  # meters \n",
    "long_lat_elev = (location.longitude, location.latitude, elevation)\n",
    "\n",
    "v = cesiumpy.Viewer()\n",
    "v.camera.flyTo(long_lat_elev)\n",
    "v"
   ]
  },
  {
   "cell_type": "markdown",
   "metadata": {},
   "source": [
    "### Plot a marker from a kml file:\n",
    "\n",
    "This used to work, following [the documentation](http://cesiumpy.readthedocs.io/en/latest/io.html#kml), but isn't working for me now:"
   ]
  },
  {
   "cell_type": "code",
   "execution_count": null,
   "metadata": {},
   "outputs": [],
   "source": [
    "import cesiumpy\n",
    "ds = cesiumpy.KmlDataSource('./gauges.kml')\n",
    "\n",
    "if 0:\n",
    "    v = cesiumpy.Viewer()\n",
    "    v.dataSources.add(ds)\n",
    "    v.camera.flyTo(long_lat_elev)\n",
    "    v"
   ]
  },
  {
   "cell_type": "markdown",
   "metadata": {
    "collapsed": true
   },
   "source": [
    "### Plot fluid depth loaded from a kml file or sequence of times from a kmz file\n",
    "\n",
    "Also not working for me now."
   ]
  },
  {
   "cell_type": "code",
   "execution_count": null,
   "metadata": {
    "collapsed": true
   },
   "outputs": [],
   "source": []
  }
 ],
 "metadata": {
  "kernelspec": {
   "display_name": "Python 2",
   "language": "python",
   "name": "python2"
  },
  "language_info": {
   "codemirror_mode": {
    "name": "ipython",
    "version": 3
   },
   "file_extension": ".py",
   "mimetype": "text/x-python",
   "name": "python",
   "nbconvert_exporter": "python",
   "pygments_lexer": "ipython3",
   "version": "3.5.2"
  }
 },
 "nbformat": 4,
 "nbformat_minor": 1
}
